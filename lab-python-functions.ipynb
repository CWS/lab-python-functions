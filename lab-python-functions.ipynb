{
 "cells": [
  {
   "cell_type": "markdown",
   "id": "25d7736c-ba17-4aff-b6bb-66eba20fbf4e",
   "metadata": {},
   "source": [
    "# Lab | Functions"
   ]
  },
  {
   "cell_type": "markdown",
   "id": "0c581062-8967-4d93-b06e-62833222f930",
   "metadata": {
    "tags": []
   },
   "source": [
    "## Exercise: Managing Customer Orders with Functions\n",
    "\n",
    "In the previous exercise, you improved the code for managing customer orders by using loops and flow control. Now, let's take it a step further and refactor the code by introducing functions.\n",
    "\n",
    "Follow the steps below to complete the exercise:\n",
    "\n",
    "1. Define a function named `initialize_inventory` that takes `products` as a parameter. Inside the function, implement the code for initializing the inventory dictionary using a loop and user input.\n",
    "\n",
    "2. Define a function named `get_customer_orders` that takes no parameters. Inside the function, implement the code for prompting the user to enter the product names using a loop. The function should return the `customer_orders` set.\n",
    "\n",
    "3. Define a function named `update_inventory` that takes `customer_orders` and `inventory` as parameters. Inside the function, implement the code for updating the inventory dictionary based on the customer orders.\n",
    "\n",
    "4. Define a function named `calculate_order_statistics` that takes `customer_orders` and `products` as parameters. Inside the function, implement the code for calculating the order statistics (total products ordered, and percentage of unique products ordered). The function should return these values.\n",
    "\n",
    "5. Define a function named `print_order_statistics` that takes `order_statistics` as a parameter. Inside the function, implement the code for printing the order statistics.\n",
    "\n",
    "6. Define a function named `print_updated_inventory` that takes `inventory` as a parameter. Inside the function, implement the code for printing the updated inventory.\n",
    "\n",
    "7. Call the functions in the appropriate sequence to execute the program and manage customer orders.\n",
    "\n",
    "Hints for functions:\n",
    "\n",
    "- Consider the input parameters required for each function and their return values.\n",
    "- Utilize function parameters and return values to transfer data between functions.\n",
    "- Test your functions individually to ensure they work correctly.\n",
    "\n",
    "\n"
   ]
  },
  {
   "cell_type": "code",
   "execution_count": 11,
   "id": "071816d9",
   "metadata": {},
   "outputs": [],
   "source": [
    "products = [\"t-shirt\", \"mug\", \"hat\", \"book\", \"keychain\"]"
   ]
  },
  {
   "cell_type": "code",
   "execution_count": 14,
   "id": "c3cd5876",
   "metadata": {},
   "outputs": [],
   "source": [
    "def initialize_inventory(products_list): \n",
    "    inventory = {}\n",
    "    for item in products_list:\n",
    "        inventory[item]=int(input(f\"Please input quantity of {item}\"))\n",
    "    return inventory\n",
    "\n",
    "def get_customer_orders():\n",
    "    orders_set = set()\n",
    "    intention = \"yes\"\n",
    "    while intention == \"yes\":\n",
    "        order = input(\"What items would you like to order?\")\n",
    "        orders_set.add(order)\n",
    "        intention = input(\"Would you like to order another product? (yes/no)\")\n",
    "    return orders_set\n",
    "\n",
    "def update_inventory(order_set, inventory_dict):\n",
    "    for order in order_set:\n",
    "        if order in inventory_dict:\n",
    "            inventory_dict[order] = inventory_dict.get(order)-1\n",
    "    return inventory_dict\n",
    "\n",
    "def calculate_order_statistics(orders_set, products_list):\n",
    "    total_order = len(orders_set)\n",
    "    total_inventory = len(products_list)\n",
    "    perc_ordered = ((total_order/total_inventory)*100)\n",
    "    order_status = (total_order, perc_ordered)\n",
    "    return order_status\n",
    "\n",
    "def print_order_statistics(order_statistics):\n",
    "    print(f\"Order Statistics: \\nTotal Products Ordered: {order_statistics[0]} \\nPercentage of Products Ordered: {order_statistics[1]} %\")\n",
    "    for order in order_statistics:\n",
    "        if order in inventory:\n",
    "            inventory[order] = inventory.get(order)-1\n",
    "\n",
    "def print_updated_inventory(inventory):\n",
    "    print(\"Updated Inventory:\")\n",
    "    for key in inventory:\n",
    "        print(f\"{key}: {inventory.get(key)}\")\n",
    "    return"
   ]
  },
  {
   "cell_type": "code",
   "execution_count": 15,
   "id": "49df80f2",
   "metadata": {},
   "outputs": [
    {
     "name": "stdout",
     "output_type": "stream",
     "text": [
      "Order Statistics: \n",
      "Total Products Ordered: 1 \n",
      "Percentage of Products Ordered: 20.0 %\n",
      "Updated Inventory:\n",
      "t-shirt: 2\n",
      "mug: 1\n",
      "hat: 2\n",
      "book: 2\n",
      "keychain: 2\n"
     ]
    }
   ],
   "source": [
    "inventory = initialize_inventory(products)\n",
    "order = get_customer_orders()\n",
    "update_inventory(order, inventory)\n",
    "order_statistics = calculate_order_statistics(order, products)\n",
    "print_order_statistics(order_statistics)\n",
    "print_updated_inventory(inventory)"
   ]
  }
 ],
 "metadata": {
  "kernelspec": {
   "display_name": "Python 3 (ipykernel)",
   "language": "python",
   "name": "python3"
  },
  "language_info": {
   "codemirror_mode": {
    "name": "ipython",
    "version": 3
   },
   "file_extension": ".py",
   "mimetype": "text/x-python",
   "name": "python",
   "nbconvert_exporter": "python",
   "pygments_lexer": "ipython3",
   "version": "3.11.5"
  }
 },
 "nbformat": 4,
 "nbformat_minor": 5
}
